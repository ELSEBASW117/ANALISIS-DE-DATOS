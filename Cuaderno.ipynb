{
 "cells": [
  {
   "attachments": {},
   "cell_type": "markdown",
   "metadata": {},
   "source": [
    "# **Fundamentos de Analisis de Datos**\n",
    "## Curso de Introduccion al Analisis de Datos apoyado en software\n",
    "\n",
    "Cuaderno de apuntes para la materia"
   ]
  }
 ],
 "metadata": {
  "kernelspec": {
   "display_name": "Python 3",
   "language": "python",
   "name": "python3"
  },
  "language_info": {
   "name": "python",
   "version": "3.11.1"
  },
  "orig_nbformat": 4,
  "vscode": {
   "interpreter": {
    "hash": "29d06ae30017999b333f72ee5ee3fe0e39fb4df45c36fb8b43dd073d46c31359"
   }
  }
 },
 "nbformat": 4,
 "nbformat_minor": 2
}
